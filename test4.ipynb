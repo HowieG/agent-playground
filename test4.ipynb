{
 "cells": [
  {
   "cell_type": "markdown",
   "metadata": {},
   "source": []
  },
  {
   "cell_type": "code",
   "execution_count": 1,
   "metadata": {},
   "outputs": [
    {
     "name": "stdout",
     "output_type": "stream",
     "text": [
      "I belong to the Agent class\n"
     ]
    }
   ],
   "source": [
    "from functools import wraps\n",
    "from contextlib import contextmanager\n",
    "import threading\n",
    "\n",
    "# Thread-local storage for agent context\n",
    "thread_local = threading.local()\n",
    "\n",
    "@contextmanager\n",
    "def agent_context(agent):\n",
    "    \"\"\"Context manager to set the current agent context.\"\"\"\n",
    "    original_context = getattr(thread_local, 'current_agent', None)\n",
    "    thread_local.current_agent = agent\n",
    "    try:\n",
    "        yield\n",
    "    finally:\n",
    "        # Restore the original context\n",
    "        thread_local.current_agent = original_context\n",
    "\n",
    "\n",
    "def with_agent_context(method):\n",
    "    @wraps(method)\n",
    "    def wrapper(self, *args, **kwargs):\n",
    "        with agent_context(self):\n",
    "            return method(self, *args, **kwargs)\n",
    "    return wrapper\n",
    "\n",
    "\n",
    "def openai():\n",
    "    current_agent = getattr(thread_local, 'current_agent', None)\n",
    "    if current_agent:\n",
    "        print(\"I belong to the Agent class\")\n",
    "    else:\n",
    "        print(\"No Agent context found.\")\n",
    "\n",
    "\n",
    "class Agent:\n",
    "    def __init__(self):\n",
    "        pass\n",
    "\n",
    "    @with_agent_context\n",
    "    def SomeWrapper(self):\n",
    "        openai()\n",
    "\n",
    "    @with_agent_context\n",
    "    def DoTask(self):\n",
    "        self.SomeWrapper()\n",
    "\n",
    "# Example usage\n",
    "agent = Agent()\n",
    "agent.DoTask()"
   ]
  }
 ],
 "metadata": {
  "kernelspec": {
   "display_name": "env",
   "language": "python",
   "name": "python3"
  },
  "language_info": {
   "codemirror_mode": {
    "name": "ipython",
    "version": 3
   },
   "file_extension": ".py",
   "mimetype": "text/x-python",
   "name": "python",
   "nbconvert_exporter": "python",
   "pygments_lexer": "ipython3",
   "version": "3.12.2"
  }
 },
 "nbformat": 4,
 "nbformat_minor": 2
}
