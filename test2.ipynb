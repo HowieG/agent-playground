{
 "cells": [
  {
   "cell_type": "code",
   "execution_count": 1,
   "metadata": {},
   "outputs": [],
   "source": [
    "import inspect\n",
    "\n",
    "\n",
    "def a():\n",
    "    # Get the current call stack\n",
    "    stack = inspect.stack()\n",
    "    # The caller's frame is at index 1 of the stack list\n",
    "    caller_frame = stack[1]\n",
    "    # Get the name of the calling function\n",
    "    caller_name = caller_frame.function\n",
    "    print(f\"{caller_name} called me\")"
   ]
  },
  {
   "cell_type": "markdown",
   "metadata": {},
   "source": []
  },
  {
   "cell_type": "code",
   "execution_count": 2,
   "metadata": {},
   "outputs": [
    {
     "name": "stdout",
     "output_type": "stream",
     "text": [
      "function1 called me\n",
      "function2 called me\n"
     ]
    }
   ],
   "source": [
    "def function1():\n",
    "\ta()\n",
    "\n",
    "def function2():\n",
    "\ta()\n",
    "\n",
    "function1()\n",
    "function2()"
   ]
  }
 ],
 "metadata": {
  "kernelspec": {
   "display_name": "env",
   "language": "python",
   "name": "python3"
  },
  "language_info": {
   "codemirror_mode": {
    "name": "ipython",
    "version": 3
   },
   "file_extension": ".py",
   "mimetype": "text/x-python",
   "name": "python",
   "nbconvert_exporter": "python",
   "pygments_lexer": "ipython3",
   "version": "3.12.2"
  }
 },
 "nbformat": 4,
 "nbformat_minor": 2
}
