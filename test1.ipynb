{
 "cells": [
  {
   "cell_type": "code",
   "execution_count": 1,
   "metadata": {},
   "outputs": [],
   "source": [
    "import uuid\n",
    "from datetime import datetime\n",
    "from functools import wraps\n",
    "import contextvars\n",
    "\n",
    "# Context variable for holding the current UUID\n",
    "current_uuid = contextvars.ContextVar('current_uuid', default=None)\n",
    "\n",
    "def instrumentor(func):\n",
    "    @wraps(func)\n",
    "    def wrapper(*args, **kwargs):\n",
    "        # Assign a UUID to the function call\n",
    "        wrapper.uuid = uuid.uuid4()\n",
    "\n",
    "        # Set this UUID in the context\n",
    "        token = current_uuid.set(wrapper.uuid)\n",
    "\n",
    "        # Record start timestamp\n",
    "        wrapper.start_timestamp = datetime.now()\n",
    "\n",
    "        # Execute the function\n",
    "        result = func(*args, **kwargs)\n",
    "\n",
    "        # Record end timestamp\n",
    "        wrapper.end_timestamp = datetime.now()\n",
    "\n",
    "        # Optionally, you could print or log the execution info here\n",
    "        # print(f\"Function {func.__name__} UUID: {wrapper.uuid}\")\n",
    "        # print(f\"Start: {wrapper.start_timestamp}, End: {\n",
    "        #       wrapper.end_timestamp}\")\n",
    "        \n",
    "        # Restore the previous UUID in the context (if any)\n",
    "        current_uuid.reset(token)\n",
    "\n",
    "        return result\n",
    "    return wrapper"
   ]
  },
  {
   "cell_type": "code",
   "execution_count": 2,
   "metadata": {},
   "outputs": [],
   "source": [
    "def openai():\n",
    "\tprint(\"\topenai\")\n",
    "\tprint(f\"\tCalled by UUID: {current_uuid.get()}\")\n",
    "\n",
    "\n",
    "def writeCode():\n",
    "\tprint(\"\twriteCode\")\n",
    "\tprint(f\"\tCalled by UUID: {current_uuid.get()}\")\n",
    "\n",
    "\n",
    "def lintCode():\n",
    "\tprint(\"\tlintCode\")\n",
    "\tprint(f\"\tCalled by UUID: {current_uuid.get()}\")\n",
    "\ttestCode()\n",
    "\n",
    "def testCode():\n",
    "\tprint(\"\ttestCode\")\n",
    "\tprint(f\"\tCalled by UUID: {current_uuid.get()}\")"
   ]
  },
  {
   "cell_type": "code",
   "execution_count": 3,
   "metadata": {},
   "outputs": [
    {
     "name": "stdout",
     "output_type": "stream",
     "text": [
      "agent1\n",
      "\topenai\n",
      "\tCalled by UUID: bd752209-b437-4499-81e1-9148b400f860\n",
      "\twriteCode\n",
      "\tCalled by UUID: bd752209-b437-4499-81e1-9148b400f860\n",
      "\tlintCode\n",
      "\tCalled by UUID: bd752209-b437-4499-81e1-9148b400f860\n",
      "\ttestCode\n",
      "\tCalled by UUID: bd752209-b437-4499-81e1-9148b400f860\n",
      "agent1\n",
      "\topenai\n",
      "\tCalled by UUID: 482db5c3-ce3d-4069-8d5e-5834a0b3f2e3\n",
      "\twriteCode\n",
      "\tCalled by UUID: 482db5c3-ce3d-4069-8d5e-5834a0b3f2e3\n",
      "\tlintCode\n",
      "\tCalled by UUID: 482db5c3-ce3d-4069-8d5e-5834a0b3f2e3\n",
      "\ttestCode\n",
      "\tCalled by UUID: 482db5c3-ce3d-4069-8d5e-5834a0b3f2e3\n"
     ]
    }
   ],
   "source": [
    "@instrumentor\n",
    "def agent1():\n",
    "\tprint(\"agent1\")\n",
    "\topenai()\n",
    "\twriteCode()\n",
    "\tlintCode()\n",
    "\n",
    "agent1()\n",
    "agent1()"
   ]
  }
 ],
 "metadata": {
  "kernelspec": {
   "display_name": "env",
   "language": "python",
   "name": "python3"
  },
  "language_info": {
   "codemirror_mode": {
    "name": "ipython",
    "version": 3
   },
   "file_extension": ".py",
   "mimetype": "text/x-python",
   "name": "python",
   "nbconvert_exporter": "python",
   "pygments_lexer": "ipython3",
   "version": "3.12.2"
  }
 },
 "nbformat": 4,
 "nbformat_minor": 2
}
