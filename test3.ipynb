{
 "cells": [
  {
   "cell_type": "code",
   "execution_count": 1,
   "metadata": {},
   "outputs": [],
   "source": [
    "# In your SDK\n",
    "\n",
    "def tag_agent(func):\n",
    "    \"\"\"Decorator to tag a function for identification by the SDK.\"\"\"\n",
    "    func._is_agent = True\n",
    "    return func"
   ]
  },
  {
   "cell_type": "markdown",
   "metadata": {},
   "source": []
  },
  {
   "cell_type": "code",
   "execution_count": 2,
   "metadata": {},
   "outputs": [],
   "source": [
    "import inspect\n",
    "\n",
    "\n",
    "def find_calling_agent():\n",
    "    \"\"\"Traverse the call stack to find a tagged function.\"\"\"\n",
    "    stack = inspect.stack()\n",
    "    # Skip this utility function and its immediate caller\n",
    "    for frame_info in stack[2:]:\n",
    "        function_name = frame_info.function\n",
    "        function = frame_info.frame.f_globals.get(function_name)\n",
    "        if function and hasattr(function, \"_is_agent\"):\n",
    "            return function.__name__\n",
    "    return None"
   ]
  },
  {
   "cell_type": "code",
   "execution_count": 3,
   "metadata": {},
   "outputs": [
    {
     "name": "stdout",
     "output_type": "stream",
     "text": [
      "Agent2 called me\n",
      "Agent1 called me\n"
     ]
    }
   ],
   "source": [
    "def openai():\n",
    "    caller_name = find_calling_agent()\n",
    "    if caller_name:\n",
    "        print(f\"{caller_name} called me\")\n",
    "    else:\n",
    "        print(\"No tagged caller found.\")\n",
    "\n",
    "def SomeWrapper1():\n",
    "    openai()\n",
    "\n",
    "def SomeWrapper2():\n",
    "    SomeWrapper1()\n",
    "\n",
    "\n",
    "@tag_agent\n",
    "def Agent1():\n",
    "    SomeWrapper2()\n",
    "\n",
    "\n",
    "@tag_agent\n",
    "def Agent2():\n",
    "    SomeWrapper2()\n",
    "\n",
    "Agent2()\n",
    "Agent1()"
   ]
  }
 ],
 "metadata": {
  "kernelspec": {
   "display_name": "env",
   "language": "python",
   "name": "python3"
  },
  "language_info": {
   "codemirror_mode": {
    "name": "ipython",
    "version": 3
   },
   "file_extension": ".py",
   "mimetype": "text/x-python",
   "name": "python",
   "nbconvert_exporter": "python",
   "pygments_lexer": "ipython3",
   "version": "3.12.2"
  }
 },
 "nbformat": 4,
 "nbformat_minor": 2
}
